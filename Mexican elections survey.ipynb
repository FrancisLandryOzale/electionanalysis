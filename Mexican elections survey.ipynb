{
 "cells": [
  {
   "cell_type": "markdown",
   "metadata": {},
   "source": [
    "# Visualizing data\n",
    "\n",
    "The notebook shows the main emerging trends from a survey about Mexican general elections. It is also a guideline on the basic steps followed during the analysis."
   ]
  },
  {
   "cell_type": "markdown",
   "metadata": {},
   "source": [
    "## Data Segmentation"
   ]
  },
  {
   "cell_type": "markdown",
   "metadata": {},
   "source": [
    "### Import data\n",
    "\n",
    "Data from an Excel file with multiple sheets"
   ]
  },
  {
   "cell_type": "code",
   "execution_count": 2,
   "metadata": {},
   "outputs": [],
   "source": [
    "#import data\n",
    "import pandas as pd"
   ]
  },
  {
   "cell_type": "code",
   "execution_count": 14,
   "metadata": {},
   "outputs": [],
   "source": [
    "electionoverview = pd.read_excel(r\"C:\\Users\\franc_000\\Documents\\3. JOB APPLICATION\\DaliaResearch\\Challenge - Mexico Elections - Table of results.xlsx\",\"Demographics\",\n",
    "              skiprows=21, skip_footer=6, index_col=0,\n",
    "              names=[\"high\", \"medium\", \"low\", \"none\", \"city\", \"rural\", \"female\", \"male\",\"delete\",\"All\"]\n",
    "             )\n",
    "        \n",
    "\n",
    "\n"
   ]
  },
  {
   "cell_type": "markdown",
   "metadata": {},
   "source": [
    "### Transform / read data"
   ]
  },
  {
   "cell_type": "code",
   "execution_count": 19,
   "metadata": {},
   "outputs": [],
   "source": [
    "electionoverview.drop(\"delete\",axis=1,inplace=True)"
   ]
  },
  {
   "cell_type": "code",
   "execution_count": 25,
   "metadata": {},
   "outputs": [
    {
     "data": {
      "text/html": [
       "<div>\n",
       "<style scoped>\n",
       "    .dataframe tbody tr th:only-of-type {\n",
       "        vertical-align: middle;\n",
       "    }\n",
       "\n",
       "    .dataframe tbody tr th {\n",
       "        vertical-align: top;\n",
       "    }\n",
       "\n",
       "    .dataframe thead th {\n",
       "        text-align: right;\n",
       "    }\n",
       "</style>\n",
       "<table border=\"1\" class=\"dataframe\">\n",
       "  <thead>\n",
       "    <tr style=\"text-align: right;\">\n",
       "      <th></th>\n",
       "      <th>high</th>\n",
       "      <th>medium</th>\n",
       "      <th>low</th>\n",
       "      <th>none</th>\n",
       "      <th>city</th>\n",
       "      <th>rural</th>\n",
       "      <th>female</th>\n",
       "      <th>male</th>\n",
       "      <th>All</th>\n",
       "    </tr>\n",
       "    <tr>\n",
       "      <th>Elections Support</th>\n",
       "      <th></th>\n",
       "      <th></th>\n",
       "      <th></th>\n",
       "      <th></th>\n",
       "      <th></th>\n",
       "      <th></th>\n",
       "      <th></th>\n",
       "      <th></th>\n",
       "      <th></th>\n",
       "    </tr>\n",
       "  </thead>\n",
       "  <tbody>\n",
       "    <tr>\n",
       "      <th>I’m not planning to vote / null vote</th>\n",
       "      <td>0.00</td>\n",
       "      <td>6.77</td>\n",
       "      <td>14.59</td>\n",
       "      <td>0.00</td>\n",
       "      <td>8.67</td>\n",
       "      <td>9.21</td>\n",
       "      <td>9.64</td>\n",
       "      <td>7.87</td>\n",
       "      <td>8.75</td>\n",
       "    </tr>\n",
       "    <tr>\n",
       "      <th>Independent candidate</th>\n",
       "      <td>7.27</td>\n",
       "      <td>5.18</td>\n",
       "      <td>3.78</td>\n",
       "      <td>16.67</td>\n",
       "      <td>4.92</td>\n",
       "      <td>6.58</td>\n",
       "      <td>5.62</td>\n",
       "      <td>4.72</td>\n",
       "      <td>5.17</td>\n",
       "    </tr>\n",
       "    <tr>\n",
       "      <th>Movimiento Ciudadano</th>\n",
       "      <td>5.45</td>\n",
       "      <td>0.80</td>\n",
       "      <td>3.78</td>\n",
       "      <td>16.67</td>\n",
       "      <td>2.58</td>\n",
       "      <td>3.95</td>\n",
       "      <td>2.41</td>\n",
       "      <td>3.15</td>\n",
       "      <td>2.78</td>\n",
       "    </tr>\n",
       "    <tr>\n",
       "      <th>Movimiento Regeneración Nacional (Morena)</th>\n",
       "      <td>38.18</td>\n",
       "      <td>37.85</td>\n",
       "      <td>35.68</td>\n",
       "      <td>16.67</td>\n",
       "      <td>35.36</td>\n",
       "      <td>43.42</td>\n",
       "      <td>31.33</td>\n",
       "      <td>41.73</td>\n",
       "      <td>36.58</td>\n",
       "    </tr>\n",
       "    <tr>\n",
       "      <th>Nueva Alianza</th>\n",
       "      <td>0.00</td>\n",
       "      <td>1.20</td>\n",
       "      <td>1.62</td>\n",
       "      <td>0.00</td>\n",
       "      <td>1.41</td>\n",
       "      <td>0.00</td>\n",
       "      <td>0.80</td>\n",
       "      <td>1.57</td>\n",
       "      <td>1.19</td>\n",
       "    </tr>\n",
       "    <tr>\n",
       "      <th>Other</th>\n",
       "      <td>0.00</td>\n",
       "      <td>0.40</td>\n",
       "      <td>0.54</td>\n",
       "      <td>16.67</td>\n",
       "      <td>0.94</td>\n",
       "      <td>0.00</td>\n",
       "      <td>0.40</td>\n",
       "      <td>1.18</td>\n",
       "      <td>0.80</td>\n",
       "    </tr>\n",
       "    <tr>\n",
       "      <th>Partido Acción Nacional (PAN)</th>\n",
       "      <td>21.82</td>\n",
       "      <td>15.14</td>\n",
       "      <td>10.27</td>\n",
       "      <td>8.33</td>\n",
       "      <td>14.29</td>\n",
       "      <td>11.84</td>\n",
       "      <td>14.06</td>\n",
       "      <td>13.78</td>\n",
       "      <td>13.92</td>\n",
       "    </tr>\n",
       "    <tr>\n",
       "      <th>Partido de la Revolución Democrática (PRD)</th>\n",
       "      <td>3.64</td>\n",
       "      <td>2.79</td>\n",
       "      <td>1.62</td>\n",
       "      <td>0.00</td>\n",
       "      <td>2.81</td>\n",
       "      <td>0.00</td>\n",
       "      <td>2.01</td>\n",
       "      <td>2.76</td>\n",
       "      <td>2.39</td>\n",
       "    </tr>\n",
       "    <tr>\n",
       "      <th>Partido del Trabajo (PT)</th>\n",
       "      <td>0.00</td>\n",
       "      <td>0.80</td>\n",
       "      <td>2.16</td>\n",
       "      <td>0.00</td>\n",
       "      <td>0.94</td>\n",
       "      <td>2.63</td>\n",
       "      <td>1.20</td>\n",
       "      <td>1.18</td>\n",
       "      <td>1.19</td>\n",
       "    </tr>\n",
       "    <tr>\n",
       "      <th>Partido Encuentro Social</th>\n",
       "      <td>0.00</td>\n",
       "      <td>0.40</td>\n",
       "      <td>0.00</td>\n",
       "      <td>0.00</td>\n",
       "      <td>0.23</td>\n",
       "      <td>0.00</td>\n",
       "      <td>0.00</td>\n",
       "      <td>0.39</td>\n",
       "      <td>0.20</td>\n",
       "    </tr>\n",
       "    <tr>\n",
       "      <th>Partido Revolucionario Institucional (PRI)</th>\n",
       "      <td>10.91</td>\n",
       "      <td>6.77</td>\n",
       "      <td>5.41</td>\n",
       "      <td>8.33</td>\n",
       "      <td>6.79</td>\n",
       "      <td>6.58</td>\n",
       "      <td>6.43</td>\n",
       "      <td>7.09</td>\n",
       "      <td>6.76</td>\n",
       "    </tr>\n",
       "    <tr>\n",
       "      <th>Partido Verde Ecologista de México (PVEM, PVE o Verde)</th>\n",
       "      <td>0.00</td>\n",
       "      <td>0.80</td>\n",
       "      <td>0.54</td>\n",
       "      <td>0.00</td>\n",
       "      <td>0.23</td>\n",
       "      <td>2.63</td>\n",
       "      <td>0.80</td>\n",
       "      <td>0.39</td>\n",
       "      <td>0.60</td>\n",
       "    </tr>\n",
       "    <tr>\n",
       "      <th>Undecided / Don’t know</th>\n",
       "      <td>12.73</td>\n",
       "      <td>21.12</td>\n",
       "      <td>20.00</td>\n",
       "      <td>16.67</td>\n",
       "      <td>20.84</td>\n",
       "      <td>13.16</td>\n",
       "      <td>25.30</td>\n",
       "      <td>14.17</td>\n",
       "      <td>19.68</td>\n",
       "    </tr>\n",
       "  </tbody>\n",
       "</table>\n",
       "</div>"
      ],
      "text/plain": [
       "                                                     high  medium    low  \\\n",
       "Elections Support                                                          \n",
       "I’m not planning to vote / null vote                 0.00    6.77  14.59   \n",
       "Independent candidate                                7.27    5.18   3.78   \n",
       "Movimiento Ciudadano                                 5.45    0.80   3.78   \n",
       "Movimiento Regeneración Nacional (Morena)           38.18   37.85  35.68   \n",
       "Nueva Alianza                                        0.00    1.20   1.62   \n",
       "Other                                                0.00    0.40   0.54   \n",
       "Partido Acción Nacional (PAN)                       21.82   15.14  10.27   \n",
       "Partido de la Revolución Democrática (PRD)           3.64    2.79   1.62   \n",
       "Partido del Trabajo (PT)                             0.00    0.80   2.16   \n",
       "Partido Encuentro Social                             0.00    0.40   0.00   \n",
       "Partido Revolucionario Institucional (PRI)          10.91    6.77   5.41   \n",
       "Partido Verde Ecologista de México (PVEM, PVE o...   0.00    0.80   0.54   \n",
       "Undecided / Don’t know                              12.73   21.12  20.00   \n",
       "\n",
       "                                                     none   city  rural  \\\n",
       "Elections Support                                                         \n",
       "I’m not planning to vote / null vote                 0.00   8.67   9.21   \n",
       "Independent candidate                               16.67   4.92   6.58   \n",
       "Movimiento Ciudadano                                16.67   2.58   3.95   \n",
       "Movimiento Regeneración Nacional (Morena)           16.67  35.36  43.42   \n",
       "Nueva Alianza                                        0.00   1.41   0.00   \n",
       "Other                                               16.67   0.94   0.00   \n",
       "Partido Acción Nacional (PAN)                        8.33  14.29  11.84   \n",
       "Partido de la Revolución Democrática (PRD)           0.00   2.81   0.00   \n",
       "Partido del Trabajo (PT)                             0.00   0.94   2.63   \n",
       "Partido Encuentro Social                             0.00   0.23   0.00   \n",
       "Partido Revolucionario Institucional (PRI)           8.33   6.79   6.58   \n",
       "Partido Verde Ecologista de México (PVEM, PVE o...   0.00   0.23   2.63   \n",
       "Undecided / Don’t know                              16.67  20.84  13.16   \n",
       "\n",
       "                                                    female   male    All  \n",
       "Elections Support                                                         \n",
       "I’m not planning to vote / null vote                  9.64   7.87   8.75  \n",
       "Independent candidate                                 5.62   4.72   5.17  \n",
       "Movimiento Ciudadano                                  2.41   3.15   2.78  \n",
       "Movimiento Regeneración Nacional (Morena)            31.33  41.73  36.58  \n",
       "Nueva Alianza                                         0.80   1.57   1.19  \n",
       "Other                                                 0.40   1.18   0.80  \n",
       "Partido Acción Nacional (PAN)                        14.06  13.78  13.92  \n",
       "Partido de la Revolución Democrática (PRD)            2.01   2.76   2.39  \n",
       "Partido del Trabajo (PT)                              1.20   1.18   1.19  \n",
       "Partido Encuentro Social                              0.00   0.39   0.20  \n",
       "Partido Revolucionario Institucional (PRI)            6.43   7.09   6.76  \n",
       "Partido Verde Ecologista de México (PVEM, PVE o...    0.80   0.39   0.60  \n",
       "Undecided / Don’t know                               25.30  14.17  19.68  "
      ]
     },
     "execution_count": 25,
     "metadata": {},
     "output_type": "execute_result"
    }
   ],
   "source": [
    "overviewpercents = electionoverview*100\n",
    "overviewpercents"
   ]
  },
  {
   "cell_type": "code",
   "execution_count": 31,
   "metadata": {},
   "outputs": [
    {
     "data": {
      "text/plain": [
       "Elections Support\n",
       "I’m not planning to vote / null vote                       8.75\n",
       "Independent candidate                                      5.17\n",
       "Movimiento Ciudadano                                       2.78\n",
       "Movimiento Regeneración Nacional (Morena)                 36.58\n",
       "Nueva Alianza                                              1.19\n",
       "Other                                                      0.80\n",
       "Partido Acción Nacional (PAN)                             13.92\n",
       "Partido de la Revolución Democrática (PRD)                 2.39\n",
       "Partido del Trabajo (PT)                                   1.19\n",
       "Partido Encuentro Social                                   0.20\n",
       "Partido Revolucionario Institucional (PRI)                 6.76\n",
       "Partido Verde Ecologista de México (PVEM, PVE o Verde)     0.60\n",
       "Undecided / Don’t know                                    19.68\n",
       "Name: All, dtype: float64"
      ]
     },
     "execution_count": 31,
     "metadata": {},
     "output_type": "execute_result"
    }
   ],
   "source": [
    "overviewpercents.loc[:,\"All\"]"
   ]
  },
  {
   "cell_type": "markdown",
   "metadata": {},
   "source": [
    "## Visualization and topics analysis"
   ]
  },
  {
   "cell_type": "markdown",
   "metadata": {},
   "source": [
    "### Elections support\n",
    "\n",
    "The majority of respondents (37%) supports the new party Morena (Movimiento Regeneración Nacional). The “Undecided / Don’t know” category reaches 20% and hits the second position. The undeclared categories as a whole (“I’m not planning to vote / null vote” and “Undecided / Don’t know”) play a crucial role in this election. It represents 29% of answers to this question."
   ]
  },
  {
   "cell_type": "code",
   "execution_count": 21,
   "metadata": {},
   "outputs": [],
   "source": [
    "import matplotlib.pyplot as plt\n",
    "import seaborn as sns"
   ]
  },
  {
   "cell_type": "code",
   "execution_count": 46,
   "metadata": {},
   "outputs": [
    {
     "data": {
      "image/png": "[encoded data removed]",
      "text/plain": [
       "<matplotlib.figure.Figure at 0xba9af3d6a0>"
      ]
     },
     "metadata": {},
     "output_type": "display_data"
    }
   ],
   "source": [
    "overviewpercents.loc[:,\"All\"].plot(kind='barh',legend=False);\n",
    "plt.ylabel(\"\");\n",
    "plt.title(\"Mexican Elections support\");"
   ]
  },
  {
   "cell_type": "markdown",
   "metadata": {},
   "source": [
    "### Undeclared groups\n",
    "\n",
    "The majority of the undeclared groups (“Undecided / Don’t know” // “I’m not planning to vote / null vote”) from the city."
   ]
  },
  {
   "cell_type": "code",
   "execution_count": null,
   "metadata": {},
   "outputs": [],
   "source": [
    "Undecided / Don’t know \n",
    "\n",
    "\n",
    "city\n",
    "rural\n",
    "\n",
    "90%\n",
    "10%\n"
   ]
  },
  {
   "cell_type": "code",
   "execution_count": 51,
   "metadata": {},
   "outputs": [
    {
     "data": {
      "text/html": [
       "<div>\n",
       "<style scoped>\n",
       "    .dataframe tbody tr th:only-of-type {\n",
       "        vertical-align: middle;\n",
       "    }\n",
       "\n",
       "    .dataframe tbody tr th {\n",
       "        vertical-align: top;\n",
       "    }\n",
       "\n",
       "    .dataframe thead th {\n",
       "        text-align: right;\n",
       "    }\n",
       "</style>\n",
       "<table border=\"1\" class=\"dataframe\">\n",
       "  <thead>\n",
       "    <tr style=\"text-align: right;\">\n",
       "      <th></th>\n",
       "      <th>I’m not planning to vote / null vote</th>\n",
       "      <th>Undecided / Don’t know</th>\n",
       "    </tr>\n",
       "  </thead>\n",
       "  <tbody>\n",
       "    <tr>\n",
       "      <th>city</th>\n",
       "      <td>84</td>\n",
       "      <td>90</td>\n",
       "    </tr>\n",
       "    <tr>\n",
       "      <th>rural</th>\n",
       "      <td>16</td>\n",
       "      <td>10</td>\n",
       "    </tr>\n",
       "  </tbody>\n",
       "</table>\n",
       "</div>"
      ],
      "text/plain": [
       "       I’m not planning to vote / null vote  Undecided / Don’t know\n",
       "city                                     84                      90\n",
       "rural                                    16                      10"
      ]
     },
     "execution_count": 51,
     "metadata": {},
     "output_type": "execute_result"
    }
   ],
   "source": [
    "Geography = pd.DataFrame({\"I’m not planning to vote / null vote\":[84,16],\"Undecided / Don’t know\":[90,10]},index=[\"city\",\"rural\"])\n",
    "Geography\n"
   ]
  },
  {
   "cell_type": "code",
   "execution_count": 53,
   "metadata": {},
   "outputs": [
    {
     "data": {
      "image/png": "[encoded data removed]",
      "text/plain": [
       "<matplotlib.figure.Figure at 0xba99dabe10>"
      ]
     },
     "metadata": {},
     "output_type": "display_data"
    }
   ],
   "source": [
    "Geography.loc[:,\"I’m not planning to vote / null vote\"].plot(kind='barh',legend=False);\n",
    "plt.ylabel(\"\");\n",
    "plt.title(\"Not planning\");"
   ]
  },
  {
   "cell_type": "code",
   "execution_count": 54,
   "metadata": {},
   "outputs": [
    {
     "data": {
      "image/png": "[encoded data removed]",
      "text/plain": [
       "<matplotlib.figure.Figure at 0xba99dffcc0>"
      ]
     },
     "metadata": {},
     "output_type": "display_data"
    }
   ],
   "source": [
    "Geography.loc[:,\"Undecided / Don’t know\"].plot(kind='barh',legend=False);\n",
    "plt.ylabel(\"\");\n",
    "plt.title(\"Undeciced\");"
   ]
  },
  {
   "cell_type": "markdown",
   "metadata": {},
   "source": [
    "### President disapproval\n",
    "\n",
    "65% of respondents disapprove or strongly disapprove the president's politics"
   ]
  },
  {
   "cell_type": "code",
   "execution_count": null,
   "metadata": {},
   "outputs": [],
   "source": [
    "20\t70\t86\t127\t200\n",
    "\t\t\t\t\n",
    "Strongly approve\tSomewhat approve\tNeither approve nor disapprove\tSomewhat disapprove\tStrongly disapprove\n"
   ]
  },
  {
   "cell_type": "code",
   "execution_count": 66,
   "metadata": {},
   "outputs": [
    {
     "data": {
      "text/html": [
       "<div>\n",
       "<style scoped>\n",
       "    .dataframe tbody tr th:only-of-type {\n",
       "        vertical-align: middle;\n",
       "    }\n",
       "\n",
       "    .dataframe tbody tr th {\n",
       "        vertical-align: top;\n",
       "    }\n",
       "\n",
       "    .dataframe thead th {\n",
       "        text-align: right;\n",
       "    }\n",
       "</style>\n",
       "<table border=\"1\" class=\"dataframe\">\n",
       "  <thead>\n",
       "    <tr style=\"text-align: right;\">\n",
       "      <th></th>\n",
       "      <th>total</th>\n",
       "    </tr>\n",
       "  </thead>\n",
       "  <tbody>\n",
       "    <tr>\n",
       "      <th>Strongly approve</th>\n",
       "      <td>20</td>\n",
       "    </tr>\n",
       "    <tr>\n",
       "      <th>Somewhat approve</th>\n",
       "      <td>70</td>\n",
       "    </tr>\n",
       "    <tr>\n",
       "      <th>Neither approve nor disapprove</th>\n",
       "      <td>86</td>\n",
       "    </tr>\n",
       "    <tr>\n",
       "      <th>Somewhat disapprove</th>\n",
       "      <td>127</td>\n",
       "    </tr>\n",
       "    <tr>\n",
       "      <th>Strongly disapprove</th>\n",
       "      <td>200</td>\n",
       "    </tr>\n",
       "  </tbody>\n",
       "</table>\n",
       "</div>"
      ],
      "text/plain": [
       "                                total\n",
       "Strongly approve                   20\n",
       "Somewhat approve                   70\n",
       "Neither approve nor disapprove     86\n",
       "Somewhat disapprove               127\n",
       "Strongly disapprove               200"
      ]
     },
     "execution_count": 66,
     "metadata": {},
     "output_type": "execute_result"
    }
   ],
   "source": [
    "President = pd.DataFrame({\"total\":[20, 70, 86, 127, 200]},\n",
    "                         index=[\"Strongly approve\", \n",
    "                                \"Somewhat approve\",\n",
    "                                \"Neither approve nor disapprove\", \n",
    "                                \"Somewhat disapprove\",\n",
    "                                \"Strongly disapprove\"])\n",
    "President"
   ]
  },
  {
   "cell_type": "code",
   "execution_count": 70,
   "metadata": {},
   "outputs": [
    {
     "data": {
      "image/png": "[encoded data removed]",
      "text/plain": [
       "<matplotlib.figure.Figure at 0xba9b048278>"
      ]
     },
     "metadata": {},
     "output_type": "display_data"
    }
   ],
   "source": [
    "percentage = President/President.loc[:,\"total\"].sum()\n",
    "\n",
    "percentage.loc[:,\"total\"].plot(kind='barh',legend=False);\n",
    "plt.ylabel(\"\");\n",
    "plt.title(\"President Disapproval\");"
   ]
  },
  {
   "cell_type": "code",
   "execution_count": null,
   "metadata": {},
   "outputs": [],
   "source": []
  }
 ],
 "metadata": {
  "kernelspec": {
   "display_name": "Python 3",
   "language": "python",
   "name": "python3"
  },
  "language_info": {
   "codemirror_mode": {
    "name": "ipython",
    "version": 3
   },
   "file_extension": ".py",
   "mimetype": "text/x-python",
   "name": "python",
   "nbconvert_exporter": "python",
   "pygments_lexer": "ipython3",
   "version": "3.6.4"
  }
 },
 "nbformat": 4,
 "nbformat_minor": 2
}
